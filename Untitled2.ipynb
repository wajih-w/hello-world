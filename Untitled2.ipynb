{
  "nbformat": 4,
  "nbformat_minor": 0,
  "metadata": {
    "colab": {
      "provenance": [],
      "authorship_tag": "ABX9TyPYSEzb6k8EOgbotQCAEAQR",
      "include_colab_link": true
    },
    "kernelspec": {
      "name": "python3",
      "display_name": "Python 3"
    },
    "language_info": {
      "name": "python"
    }
  },
  "cells": [
    {
      "cell_type": "markdown",
      "metadata": {
        "id": "view-in-github",
        "colab_type": "text"
      },
      "source": [
        "<a href=\"https://colab.research.google.com/github/wajih-w/hello-world/blob/master/Untitled2.ipynb\" target=\"_parent\"><img src=\"https://colab.research.google.com/assets/colab-badge.svg\" alt=\"Open In Colab\"/></a>"
      ]
    },
    {
      "cell_type": "markdown",
      "source": [],
      "metadata": {
        "id": "Mx9sY2iUR9aS"
      }
    },
    {
      "cell_type": "code",
      "source": [
        "#Exercise 1\n",
        "\n",
        "\n",
        "# Ask the user to input two integers\n",
        "a = int(input(\"Enter the first integer: \"))\n",
        "b = int(input(\"Enter the second integer: \"))\n",
        "# Display the contents of variables before permutation\n",
        "print(\"Before permutation:\")\n",
        "print(\"a =\", a)\n",
        "print(\"b =\", b)\n",
        "# Perform the permutation\n",
        "a, b = b, a\n",
        "# Display the contents of variables after permutation\n",
        "print(\"\\nAfter permutation:\")\n",
        "print(\"a =\", a)\n",
        "print(\"b =\", b)\n"
      ],
      "metadata": {
        "colab": {
          "base_uri": "https://localhost:8080/"
        },
        "id": "oeTd9LaPmxUt",
        "outputId": "b036869a-28fc-4a9a-9bfd-588aa477ff10"
      },
      "execution_count": 31,
      "outputs": [
        {
          "output_type": "stream",
          "name": "stdout",
          "text": [
            "Enter the first integer: 30\n",
            "Enter the second integer: 20\n",
            "Before permutation:\n",
            "a = 30\n",
            "b = 20\n",
            "\n",
            "After permutation:\n",
            "a = 20\n",
            "b = 30\n"
          ]
        }
      ]
    },
    {
      "cell_type": "code",
      "source": [
        "#Exercise 2\n",
        "\n",
        "\n",
        "# Ask the user to input the length and width of the rectangle\n",
        "length = float(input(\"Enter the length of the rectangle: \"))\n",
        "width = float(input(\"Enter the width of the rectangle: \"))\n",
        "# Calculate the perimeter\n",
        "perimeter = 2 * (length + width)\n",
        "# Display the calculated perimeter\n",
        "print(\"The perimeter of the rectangle is:\", perimeter)"
      ],
      "metadata": {
        "id": "cUSUCkzF0TqA"
      },
      "execution_count": null,
      "outputs": []
    },
    {
      "cell_type": "code",
      "source": [
        "#Exercice 3\n",
        "\n",
        "#Ask the user to input the length in cm\n",
        "length_cm = float(input(\"Enter the length in cm: \"))\n",
        "# Convert centimeters to meters\n",
        "length_m = length_cm / 100\n",
        "# Display the converted lengths\n",
        "print(\"Length in meters:\", length_m)\n",
        "\n"
      ],
      "metadata": {
        "colab": {
          "base_uri": "https://localhost:8080/"
        },
        "id": "6fWkKd9zoc2I",
        "outputId": "78d9470f-11bb-406c-d733-6cb3df5a9011"
      },
      "execution_count": 33,
      "outputs": [
        {
          "output_type": "stream",
          "name": "stdout",
          "text": [
            "Enter the length in cm: 20\n",
            "Length in meters: 0.2\n"
          ]
        }
      ]
    },
    {
      "cell_type": "code",
      "source": [
        "#Exercice 4\n",
        "\n",
        "#Ask the user to input number of day\n",
        "num_day = float(input(\"Enter your num_day\"))\n",
        "# Convert days to years and weeks\n",
        "years = num_day // 365\n",
        "weeks = (num_day % 365) // 7\n",
        "remaining_days = (num_day % 365) % 7\n",
        "# Display the converted values\n",
        "print(\"Years:\", years)\n",
        "print(\"Weeks:\", weeks)\n",
        "print(\"remaining_days\",remaining_days)"
      ],
      "metadata": {
        "colab": {
          "base_uri": "https://localhost:8080/"
        },
        "id": "pVogqVezp59y",
        "outputId": "35f16865-da99-4afc-92dd-d0e0c9ee7b7a"
      },
      "execution_count": 36,
      "outputs": [
        {
          "output_type": "stream",
          "name": "stdout",
          "text": [
            "Enter your num_day250\n",
            "Years: 0.0\n",
            "Weeks: 35.0\n",
            "remaining_days 5.0\n"
          ]
        }
      ]
    },
    {
      "cell_type": "code",
      "source": [
        "#Exercice 5\n",
        "\n",
        "#Ask the user to enter value and exponent\n",
        "value  = int(input(\"enter  value\"))\n",
        "exponent = int(input(\"enter exponent  value\"))\n",
        "#calcul power\n",
        "result = value ** exponent\n",
        "# Display the result\n",
        "print (result)"
      ],
      "metadata": {
        "colab": {
          "base_uri": "https://localhost:8080/"
        },
        "id": "GfteqUSDq4Zs",
        "outputId": "9290fcb1-3412-4400-d17e-30a282324dc7"
      },
      "execution_count": 38,
      "outputs": [
        {
          "output_type": "stream",
          "name": "stdout",
          "text": [
            "enter  value20\n",
            "enter exponent  value3\n",
            "8000\n"
          ]
        }
      ]
    },
    {
      "cell_type": "code",
      "source": [
        "#Exercice 6\n",
        "import math\n",
        "\n",
        "#Ask the user to her number\n",
        "number = float(input(\"entre your number\"))\n",
        "#calcul square_root\n",
        "square_root = math.sqrt(number)\n",
        "#display a square_root\n",
        "print(square_root)\n"
      ],
      "metadata": {
        "colab": {
          "base_uri": "https://localhost:8080/"
        },
        "id": "eWgxwvGOs9YN",
        "outputId": "027abdf1-6cb0-4002-fb72-7c04cb79403c"
      },
      "execution_count": 39,
      "outputs": [
        {
          "output_type": "stream",
          "name": "stdout",
          "text": [
            "entre your number20\n",
            "4.47213595499958\n"
          ]
        }
      ]
    },
    {
      "cell_type": "code",
      "source": [
        "#Exercice 7\n",
        "\n",
        "# Ask the user to enter the first angle\n",
        "angle1 = float(input(\"Enter the first angle of the triangle in degrees: \"))\n",
        "# Ask the user to enter the second angle\n",
        "angle2 = float(input(\"Enter the second angle of the triangle in degrees: \"))\n",
        "# Calculate the third angle\n",
        "angle3 = 180 - angle1 - angle2\n",
        "# Display the third angle\n",
        "print(\"The third angle of the triangle is:\", angle3, \"degrees\")\n",
        "# Display the third angle\n",
        "print(\"The third angle of the triangle is:\", angle3, \"degrees\")\n"
      ],
      "metadata": {
        "colab": {
          "base_uri": "https://localhost:8080/"
        },
        "id": "fVSyl2FJuNPL",
        "outputId": "611b5388-2805-469b-8535-67bc7cfd76be"
      },
      "execution_count": 40,
      "outputs": [
        {
          "output_type": "stream",
          "name": "stdout",
          "text": [
            "Enter the first angle of the triangle in degrees: 30\n",
            "Enter the second angle of the triangle in degrees: 150\n",
            "The third angle of the triangle is: 0.0 degrees\n",
            "The third angle of the triangle is: 0.0 degrees\n"
          ]
        }
      ]
    },
    {
      "cell_type": "code",
      "source": [
        "#Exercice 9\n",
        "\n",
        "# Collect marks for five subjects\n",
        "marks = []\n",
        "for i in range(5):\n",
        "    subject_mark = float(input(\"Enter marks for subject {}: \".format(i+1)))\n",
        "    marks.append(subject_mark)\n",
        "# Calculate total marks\n",
        "total_marks = sum(marks)\n",
        "\n",
        "# Calculate average marks\n",
        "average_marks = total_marks / 5\n",
        "\n",
        "# Display total and average marks\n",
        "print(\"Total marks:\", total_marks)\n",
        "print(\"Average marks:\", average_marks)\n"
      ],
      "metadata": {
        "colab": {
          "base_uri": "https://localhost:8080/"
        },
        "id": "SJ2U3GW1uqCA",
        "outputId": "1a762441-0ba8-4e47-c98f-462af7ef6d54"
      },
      "execution_count": 41,
      "outputs": [
        {
          "output_type": "stream",
          "name": "stdout",
          "text": [
            "Enter marks for subject 1: 23\n",
            "Enter marks for subject 2: 26\n",
            "Enter marks for subject 3: 32\n",
            "Enter marks for subject 4: 2\n",
            "Enter marks for subject 5: 21\n",
            "Total marks: 104.0\n",
            "Average marks: 20.8\n"
          ]
        }
      ]
    },
    {
      "cell_type": "code",
      "source": [
        "#Exercice 10\n",
        "\n",
        "import math\n",
        "\n",
        "# Capture the length of the side of the equilateral triangle from the user\n",
        "side_length = float(input(\"Enter the length of the side of the equilateral triangle: \"))\n",
        "\n",
        "# Calculate the area of the equilateral triangle\n",
        "area = (math.sqrt(3) / 4) * (side_length ** 2)\n",
        "\n",
        "# Display the area of the equilateral triangle\n",
        "print(\"The surface area of the equilateral triangle is:\", area)"
      ],
      "metadata": {
        "colab": {
          "base_uri": "https://localhost:8080/"
        },
        "id": "a0JCFpcpvoJw",
        "outputId": "4df2020f-fe36-4f9d-f271-6cc1597af10f"
      },
      "execution_count": 42,
      "outputs": [
        {
          "output_type": "stream",
          "name": "stdout",
          "text": [
            "Enter the length of the side of the equilateral triangle: 30\n",
            "The surface area of the equilateral triangle is: 389.71143170299734\n"
          ]
        }
      ]
    },
    {
      "cell_type": "code",
      "source": [
        "#Exercice 11\n",
        "\n",
        "import math\n",
        "\n",
        "# Capture the height and radius of the cone from the user\n",
        "height = float(input(\"Enter the height of the cone: \"))\n",
        "radius = float(input(\"Enter the radius of the cone: \"))\n",
        "\n",
        "# Calculate the volume of the cone\n",
        "volume = (1/3) * math.pi * (radius ** 2) * height\n",
        "\n",
        "# Display the volume of the cone\n",
        "print(\"The volume of the cone is:\", volume)\n"
      ],
      "metadata": {
        "colab": {
          "base_uri": "https://localhost:8080/"
        },
        "id": "mD_TkGqKv1yI",
        "outputId": "236ba362-d3da-4f80-a364-df0df865c931"
      },
      "execution_count": 43,
      "outputs": [
        {
          "output_type": "stream",
          "name": "stdout",
          "text": [
            "Enter the height of the cone: 25\n",
            "Enter the radius of the cone: 65\n",
            "The volume of the cone is: 110610.24134514062\n"
          ]
        }
      ]
    },
    {
      "cell_type": "code",
      "source": [
        "#Exercice 12\n",
        "\n",
        "# Ask the user to enter an integer\n",
        "num = int(input(\"Enter an integer: \"))\n",
        "\n",
        "# Display the multiplication table\n",
        "print(\"Multiplication table for\", num, \":\")\n",
        "for i in range(1, 11):\n",
        "    print(num, \"x\", i, \"=\", num * i)\n"
      ],
      "metadata": {
        "colab": {
          "base_uri": "https://localhost:8080/"
        },
        "id": "nRHdSxFVwNfv",
        "outputId": "0c54eee4-30af-43f5-9a52-f526518e3570"
      },
      "execution_count": 44,
      "outputs": [
        {
          "output_type": "stream",
          "name": "stdout",
          "text": [
            "Enter an integer: 23\n",
            "Multiplication table for 23 :\n",
            "23 x 1 = 23\n",
            "23 x 2 = 46\n",
            "23 x 3 = 69\n",
            "23 x 4 = 92\n",
            "23 x 5 = 115\n",
            "23 x 6 = 138\n",
            "23 x 7 = 161\n",
            "23 x 8 = 184\n",
            "23 x 9 = 207\n",
            "23 x 10 = 230\n"
          ]
        }
      ]
    },
    {
      "cell_type": "code",
      "source": [
        "#Exercise 13\n",
        "# Read three parameters from the user\n",
        "num1 = int(input(\"Enter the first integer: \"))\n",
        "operator = input(\"Enter the operation (+, -, x, /): \")\n",
        "num2 = int(input(\"Enter the second integer: \"))\n",
        "\n",
        "# Perform the calculation based on the operator\n",
        "if operator == '+':\n",
        "    result = num1 + num2\n",
        "elif operator == '-':\n",
        "    result = num1 - num2\n",
        "elif operator == 'x':\n",
        "    result = num1 * num2\n",
        "elif operator == '/':\n",
        "    # Check for division by zero\n",
        "    if num2 != 0:\n",
        "        result = num1 / num2\n",
        "    else:\n",
        "        print(\"Error: Division by zero!\")\n",
        "        exit()\n",
        "else:\n",
        "    print(\"Error: Invalid operation!\")\n",
        "    exit()\n",
        "\n",
        "# Display the result\n",
        "print(\"Result:\", result)\n"
      ],
      "metadata": {
        "colab": {
          "base_uri": "https://localhost:8080/"
        },
        "id": "scvlzXqrwT5e",
        "outputId": "12c4c7c9-ffa2-4d47-855f-c8708225f3b8"
      },
      "execution_count": 45,
      "outputs": [
        {
          "output_type": "stream",
          "name": "stdout",
          "text": [
            "Enter the first integer: 20\n",
            "Enter the operation (+, -, x, /): /\n",
            "Enter the second integer: 1\n",
            "Result: 20.0\n"
          ]
        }
      ]
    },
    {
      "cell_type": "code",
      "source": [
        "#Exercice 14\n",
        "# Read a positive integer from the user\n",
        "n = int(input(\"Enter a positive integer: \"))\n",
        "\n",
        "# Check if the number is even or odd and display the result using an f-string\n",
        "parity = \"EVEN\" if n % 2 == 0 else \"ODD\"\n",
        "print(f\"The number {n} is {parity}.\")\n"
      ],
      "metadata": {
        "colab": {
          "base_uri": "https://localhost:8080/"
        },
        "id": "kGNAmumGxsze",
        "outputId": "a0d463a8-cf87-4ead-cdb1-4006be083cef"
      },
      "execution_count": 46,
      "outputs": [
        {
          "output_type": "stream",
          "name": "stdout",
          "text": [
            "Enter a positive integer: 3\n",
            "The number 3 is ODD.\n"
          ]
        }
      ]
    },
    {
      "cell_type": "code",
      "source": [
        "#Exercice 15\n",
        "# Read an integer N >= 2 from the user\n",
        "N = int(input(\"Enter an integer N >= 2: \"))\n",
        "\n",
        "# Display the empty triangle\n",
        "for i in range(1, N + 1):\n",
        "    if i == 1 or i == N:\n",
        "        print(\"*\" * i)\n",
        "    else:\n",
        "        print(\"*\" + \" \" * (i - 2) + \"*\")\n"
      ],
      "metadata": {
        "colab": {
          "base_uri": "https://localhost:8080/"
        },
        "id": "5QtcCSpux_iR",
        "outputId": "3a01c227-07f0-47b9-9214-203caf2b399f"
      },
      "execution_count": 49,
      "outputs": [
        {
          "output_type": "stream",
          "name": "stdout",
          "text": [
            "Enter an integer N >= 2: 10\n",
            "*\n",
            "**\n",
            "* *\n",
            "*  *\n",
            "*   *\n",
            "*    *\n",
            "*     *\n",
            "*      *\n",
            "*       *\n",
            "**********\n"
          ]
        }
      ]
    },
    {
      "cell_type": "code",
      "source": [
        "#Exercice 16\n",
        "# Calculate and display the multiples of 13 that are also multiples of 7\n",
        "count = 0\n",
        "for i in range(1, 51):\n",
        "    result = i * 13\n",
        "    if result % 7 == 0:\n",
        "        print(f\"{i} * 13 = {result}\")\n",
        "        count += 1\n",
        "\n",
        "    if count == 50:\n",
        "        break\n"
      ],
      "metadata": {
        "colab": {
          "base_uri": "https://localhost:8080/"
        },
        "id": "3BzxADhvxlKR",
        "outputId": "a499cf85-593a-4569-b089-941cfe95a176"
      },
      "execution_count": 50,
      "outputs": [
        {
          "output_type": "stream",
          "name": "stdout",
          "text": [
            "7 * 13 = 91\n",
            "14 * 13 = 182\n",
            "21 * 13 = 273\n",
            "28 * 13 = 364\n",
            "35 * 13 = 455\n",
            "42 * 13 = 546\n",
            "49 * 13 = 637\n"
          ]
        }
      ]
    },
    {
      "cell_type": "code",
      "source": [
        "#Execice 18\n",
        "import random\n",
        "\n",
        "# Generate a random number between 1 and 100\n",
        "secret_number = random.randint(1, 100)\n",
        "\n",
        "# Initialize a variable to keep track of the number of guesses\n",
        "guess_count = 0\n",
        "\n",
        "# Start the guessing loop\n",
        "while True:\n",
        "    # Get the user's guess\n",
        "    user_guess = int(input(\"Guess the number (between 1 and 100): \"))\n",
        "    guess_count += 1\n",
        "\n",
        "    # Check if the guess is correct\n",
        "    if user_guess == secret_number:\n",
        "        print(\"Correct! You guessed the number in\", guess_count, \"guesses.\")\n",
        "        break\n",
        "    # Check if the guess is too high\n",
        "    elif user_guess > secret_number:\n",
        "        print(\"Too high! Try again.\")\n",
        "    # Check if the guess is too low\n",
        "    else:\n",
        "        print(\"Too low! Try again.\")\n"
      ],
      "metadata": {
        "colab": {
          "base_uri": "https://localhost:8080/"
        },
        "id": "HZ5iU_nAzIkZ",
        "outputId": "2e4f2c74-2991-492c-fa10-ae5e4b3c984c"
      },
      "execution_count": null,
      "outputs": [
        {
          "output_type": "stream",
          "name": "stdout",
          "text": [
            "Guess the number (between 1 and 100): 65\n",
            "Too low! Try again.\n",
            "Guess the number (between 1 and 100): 21\n",
            "Too low! Try again.\n"
          ]
        }
      ]
    },
    {
      "cell_type": "code",
      "source": [
        "for num in range(1, 101):\n",
        "    if num % 3 == 0 and num % 5 == 0:\n",
        "        print(\"FizzBuzz\")\n",
        "    elif num % 3 == 0:\n",
        "        print(\"Fizz\")\n",
        "    elif num % 5 == 0:\n",
        "        print(\"Buzz\")\n",
        "    else:\n",
        "        print(num)"
      ],
      "metadata": {
        "colab": {
          "base_uri": "https://localhost:8080/"
        },
        "id": "gpvJY8Cwz3Rm",
        "outputId": "80d936f9-ad6c-4398-e1d7-4eda389a7fb8"
      },
      "execution_count": 57,
      "outputs": [
        {
          "output_type": "stream",
          "name": "stdout",
          "text": [
            "1\n",
            "2\n",
            "Fizz\n",
            "4\n",
            "Buzz\n",
            "Fizz\n",
            "7\n",
            "8\n",
            "Fizz\n",
            "Buzz\n",
            "11\n",
            "Fizz\n",
            "13\n",
            "14\n",
            "FizzBuzz\n",
            "16\n",
            "17\n",
            "Fizz\n",
            "19\n",
            "Buzz\n",
            "Fizz\n",
            "22\n",
            "23\n",
            "Fizz\n",
            "Buzz\n",
            "26\n",
            "Fizz\n",
            "28\n",
            "29\n",
            "FizzBuzz\n",
            "31\n",
            "32\n",
            "Fizz\n",
            "34\n",
            "Buzz\n",
            "Fizz\n",
            "37\n",
            "38\n",
            "Fizz\n",
            "Buzz\n",
            "41\n",
            "Fizz\n",
            "43\n",
            "44\n",
            "FizzBuzz\n",
            "46\n",
            "47\n",
            "Fizz\n",
            "49\n",
            "Buzz\n",
            "Fizz\n",
            "52\n",
            "53\n",
            "Fizz\n",
            "Buzz\n",
            "56\n",
            "Fizz\n",
            "58\n",
            "59\n",
            "FizzBuzz\n",
            "61\n",
            "62\n",
            "Fizz\n",
            "64\n",
            "Buzz\n",
            "Fizz\n",
            "67\n",
            "68\n",
            "Fizz\n",
            "Buzz\n",
            "71\n",
            "Fizz\n",
            "73\n",
            "74\n",
            "FizzBuzz\n",
            "76\n",
            "77\n",
            "Fizz\n",
            "79\n",
            "Buzz\n",
            "Fizz\n",
            "82\n",
            "83\n",
            "Fizz\n",
            "Buzz\n",
            "86\n",
            "Fizz\n",
            "88\n",
            "89\n",
            "FizzBuzz\n",
            "91\n",
            "92\n",
            "Fizz\n",
            "94\n",
            "Buzz\n",
            "Fizz\n",
            "97\n",
            "98\n",
            "Fizz\n",
            "Buzz\n"
          ]
        }
      ]
    }
  ]
}